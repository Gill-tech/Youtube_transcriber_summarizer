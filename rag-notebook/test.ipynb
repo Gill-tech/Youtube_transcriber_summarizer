{
 "cells": [
  {
   "cell_type": "code",
   "execution_count": 1,
   "metadata": {},
   "outputs": [],
   "source": [
    "import google.generativeai as genai\n",
    "from dotenv import load_dotenv\n",
    "from langchain.prompts import PromptTemplate\n",
    "from langchain.chains.question_answering import load_qa_chain\n",
    "from langchain.text_splitter import RecursiveCharacterTextSplitter\n",
    "from langchain.vectorstores import FAISS\n",
    "from langchain_google_genai import ChatGoogleGenerativeAI\n",
    "from langchain_google_genai import GoogleGenerativeAIEmbeddings\n",
    "from langchain.text_splitter import CharacterTextSplitter\n",
    "from langchain_community.document_loaders import TextLoader\n",
    "from summarizer import extract_transcript\n",
    "from youtube_id_extractor import extract_video_id\n",
    "from yt_chat_processing import create_chunk_and_vector_db, use_input"
   ]
  },
  {
   "cell_type": "code",
   "execution_count": 17,
   "metadata": {},
   "outputs": [],
   "source": [
    "def get_conversational_chain():\n",
    "\n",
    "    prompt_template = \"\"\"\n",
    "    Answer the question as detailed as possible from the provided context, make sure to provide all the details and explain it better that it is in the context, \n",
    "    if the answer is not in provided context or even out of the scope of the context just say,\n",
    "    \"answer is not available in the context\", don't provide the wrong answer\\n\\n\n",
    "    Context:\\n {context}?\\n\n",
    "    Question: \\n{question}\\n\n",
    "\n",
    "    Answer:\n",
    "    \"\"\"\n",
    "\n",
    "    model = ChatGoogleGenerativeAI(model=\"gemini-pro\",\n",
    "                             temperature=0.3, convert_system_message_to_human=True)\n",
    "\n",
    "    prompt = PromptTemplate(template = prompt_template, input_variables = [\"context\", \"question\"])\n",
    "    chain = load_qa_chain(model, chain_type=\"stuff\", prompt=prompt)\n",
    "\n",
    "    return chain\n",
    "\n",
    "\n",
    "\n",
    "def user_input(user_question):\n",
    "    embeddings = GoogleGenerativeAIEmbeddings(model = \"models/embedding-001\", task_type=\"retrieval_document\")\n",
    "    \n",
    "    new_db = FAISS.load_local(\"faiss_index\", embeddings)\n",
    "    docs = new_db.similarity_search(user_question)\n",
    "\n",
    "    chain = get_conversational_chain()\n",
    "\n",
    "    \n",
    "    response = chain(\n",
    "        {\"input_documents\":docs, \"question\": user_question}\n",
    "        , return_only_outputs=True)\n",
    "\n",
    "    print(response)\n",
    "    print(\"Reply: \", response[\"output_text\"])"
   ]
  },
  {
   "cell_type": "code",
   "execution_count": 18,
   "metadata": {},
   "outputs": [
    {
     "name": "stdout",
     "output_type": "stream",
     "text": [
      "{'output_text': 'The four steps that can be used to build LLM from scratch are:\\n\\n1. Data Curation: This involves gathering and preparing a large and diverse dataset of text, which is crucial for training the LLM.\\n\\n2. Model Architecture: This involves selecting and designing the architecture of the LLM, such as the type of neural network and the number of parameters.\\n\\n3. Training the Model at Scale: This involves training the LLM on the prepared dataset, which requires significant computational resources and techniques to optimize the training process.\\n\\n4. Evaluating the Model: This involves assessing the performance of the trained LLM on various tasks and benchmarks to determine its effectiveness and limitations.'}\n",
      "Reply:  The four steps that can be used to build LLM from scratch are:\n",
      "\n",
      "1. Data Curation: This involves gathering and preparing a large and diverse dataset of text, which is crucial for training the LLM.\n",
      "\n",
      "2. Model Architecture: This involves selecting and designing the architecture of the LLM, such as the type of neural network and the number of parameters.\n",
      "\n",
      "3. Training the Model at Scale: This involves training the LLM on the prepared dataset, which requires significant computational resources and techniques to optimize the training process.\n",
      "\n",
      "4. Evaluating the Model: This involves assessing the performance of the trained LLM on various tasks and benchmarks to determine its effectiveness and limitations.\n"
     ]
    }
   ],
   "source": [
    "user_question = 'what are the four steps that can be used to build llm from scratch?'\n",
    "\n",
    "user_input(user_question)"
   ]
  },
  {
   "cell_type": "code",
   "execution_count": null,
   "metadata": {},
   "outputs": [],
   "source": []
  }
 ],
 "metadata": {
  "kernelspec": {
   "display_name": "yt-summarizer",
   "language": "python",
   "name": "python3"
  },
  "language_info": {
   "codemirror_mode": {
    "name": "ipython",
    "version": 3
   },
   "file_extension": ".py",
   "mimetype": "text/x-python",
   "name": "python",
   "nbconvert_exporter": "python",
   "pygments_lexer": "ipython3",
   "version": "3.10.13"
  }
 },
 "nbformat": 4,
 "nbformat_minor": 2
}
